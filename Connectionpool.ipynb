{
 "cells": [
  {
   "cell_type": "code",
   "execution_count": 30,
   "id": "06e05f63",
   "metadata": {},
   "outputs": [
    {
     "name": "stdout",
     "output_type": "stream",
     "text": [
      "The connection pool is created with a name:  ll_pool_a\n",
      "The pool size is:  3\n"
     ]
    }
   ],
   "source": [
    "from mysql.connector.pooling import MySQLConnectionPool\n",
    "p_name = 'll_pool_a'\n",
    "p_size=3\n",
    "try:\n",
    "    pool = MySQLConnectionPool(\n",
    "        pool_name = p_name,\n",
    "        pool_size=p_size,\n",
    "        host = 'localhost',\n",
    "        database = 'litlle_lemon',\n",
    "        user = 'root',\n",
    "        password = 'server@1234'\n",
    "    )\n",
    "    print(\"The connection pool is created with a name: \",p_name)\n",
    "    print('The pool size is: ',p_size)\n",
    "except:\n",
    "    print(\"error\")\n"
   ]
  },
  {
   "cell_type": "code",
   "execution_count": 9,
   "id": "f3e1c4aa",
   "metadata": {},
   "outputs": [],
   "source": [
    "users = ['mary','john','michael','tony']"
   ]
  },
  {
   "cell_type": "code",
   "execution_count": 10,
   "id": "0f7a242a",
   "metadata": {},
   "outputs": [],
   "source": [
    "select_stmt = 'select * from bookings where BookingID = %(booking_id)s'"
   ]
  },
  {
   "cell_type": "code",
   "execution_count": 11,
   "id": "ac9f18e1",
   "metadata": {},
   "outputs": [
    {
     "name": "stdout",
     "output_type": "stream",
     "text": [
      "The connection id for mary 17 is requesting info on booking 1 \n",
      "[(1, 12, 'Anna', 'Iversen', datetime.timedelta(seconds=68400), 1)]\n",
      "The connection id for john 18 is requesting info on booking 2 \n",
      "[(2, 12, 'Joakim', 'Iversen', datetime.timedelta(seconds=72000), 1)]\n",
      "The connection id for michael 19 is requesting info on booking 3 \n",
      "[(3, 19, 'Vanessa', 'McCarthy', datetime.timedelta(seconds=54000), 3)]\n",
      "The connection id for tony 20 is requesting info on booking 4 \n",
      "[(4, 15, 'Marcos', 'Romero', datetime.timedelta(seconds=63000), 4)]\n"
     ]
    }
   ],
   "source": [
    "for i in range(pool.pool_size):\n",
    "    conn = pool.get_connection()\n",
    "    if conn.is_connected:\n",
    "        cursor = conn.cursor()\n",
    "        print('The connection id for {} {} is requesting info on booking {} '.format(users[i],conn.connection_id,i+1))\n",
    "        cursor.execute(select_stmt,{'booking_id':i+1})\n",
    "        print(cursor.fetchall())\n",
    "        conn.close()"
   ]
  },
  {
   "cell_type": "code",
   "execution_count": 17,
   "id": "afdb9273",
   "metadata": {},
   "outputs": [
    {
     "name": "stdout",
     "output_type": "stream",
     "text": [
      "gettinga connection from the pool\n",
      "creating a cursor object\n",
      "executing the sql query\n",
      "Fetching the query result\n",
      "retrieveng the column names\n",
      "printing the results\n"
     ]
    }
   ],
   "source": [
    "conn1 = pool.get_connection()\n",
    "print(\"gettinga connection from the pool\")\n",
    "if conn1.is_connected:\n",
    "        cursor = conn1.cursor()\n",
    "        print(\"creating a cursor object\")\n",
    "        cursor.execute(\"select BookingID,GuestFirstName,GuestLastName from bookings\")\n",
    "        print(\"executing the sql query\")\n",
    "        result = cursor.fetchall()\n",
    "        print(\"Fetching the query result\")\n",
    "        col_name = cursor.column_names\n",
    "        print(\"retrieveng the column names\")\n",
    "        print('printing the results')\n"
   ]
  },
  {
   "cell_type": "code",
   "execution_count": 19,
   "id": "b77cd5a1",
   "metadata": {},
   "outputs": [
    {
     "name": "stdout",
     "output_type": "stream",
     "text": [
      "('BookingID', 'GuestFirstName', 'GuestLastName')\n",
      "(1, 'Anna', 'Iversen')\n",
      "(2, 'Joakim', 'Iversen')\n",
      "(3, 'Vanessa', 'McCarthy')\n",
      "(4, 'Marcos', 'Romero')\n",
      "(5, 'Hiroki', 'Yamane')\n",
      "(6, 'Diana', 'Pinto')\n",
      "returning the connection back to pool\n"
     ]
    }
   ],
   "source": [
    "print(col_name)\n",
    "for row in result:\n",
    "    print(row)\n",
    "conn1.close()\n",
    "print('returning the connection back to pool')"
   ]
  },
  {
   "cell_type": "code",
   "execution_count": 25,
   "id": "72e7c76c",
   "metadata": {},
   "outputs": [],
   "source": [
    "guests = [\"Anna\", \"Marcos\", \"Diana\", \"Joakim\", \"Hiroki\"]"
   ]
  },
  {
   "cell_type": "code",
   "execution_count": 26,
   "id": "fdf1ff42",
   "metadata": {},
   "outputs": [
    {
     "name": "stdout",
     "output_type": "stream",
     "text": [
      "Anna is connected\n",
      "Marcos is connected\n",
      "Diana is connected\n"
     ]
    }
   ],
   "source": [
    "for i in range(pool.pool_size):\n",
    "    conn1 = pool.get_connection()\n",
    "    if conn1.is_connected:\n",
    "            print('{} is connected'.format(guests[i]))"
   ]
  },
  {
   "cell_type": "code",
   "execution_count": 31,
   "id": "77ae1de3",
   "metadata": {},
   "outputs": [
    {
     "name": "stdout",
     "output_type": "stream",
     "text": [
      "[Anna] is connected.\n",
      "\n",
      "[Marcos] is connected.\n",
      "\n",
      "[Diana] is connected.\n",
      "\n",
      "No more connections are available.\n",
      "Adding new connection in the pool.\n",
      "A new connection is added in the pool.\n",
      "\n",
      "[Joakim] is connected.\n",
      "\n",
      "No more connections are available.\n",
      "Adding new connection in the pool.\n",
      "A new connection is added in the pool.\n",
      "\n",
      "[Hiroki] is connected.\n",
      "\n"
     ]
    }
   ],
   "source": [
    "import mysql.connector as connector\n",
    "for guest in guests:\n",
    "    try:\n",
    "        guest_connected = pool.get_connection()\n",
    "        print(\"[{}] is connected.\\n\".format(guest))\n",
    "    except:\n",
    "        print(\"No more connections are available.\")\n",
    "        print(\"Adding new connection in the pool.\")\n",
    "        \n",
    "        # Create a connection\n",
    "        connection=connector.connect(user=\"root\",password=\"server@1234\")\n",
    "        # Add the connection into the pool\n",
    "        pool.add_connection(cnx=connection)\n",
    "        print(\"A new connection is added in the pool.\\n\")\n",
    "        \n",
    "        user_connected = pool.get_connection()\n",
    "        print(\"[{}] is connected.\\n\".format(guest))\n"
   ]
  },
  {
   "cell_type": "code",
   "execution_count": null,
   "id": "a71cca1d",
   "metadata": {},
   "outputs": [],
   "source": []
  }
 ],
 "metadata": {
  "kernelspec": {
   "display_name": "Python 3 (ipykernel)",
   "language": "python",
   "name": "python3"
  },
  "language_info": {
   "codemirror_mode": {
    "name": "ipython",
    "version": 3
   },
   "file_extension": ".py",
   "mimetype": "text/x-python",
   "name": "python",
   "nbconvert_exporter": "python",
   "pygments_lexer": "ipython3",
   "version": "3.11.4"
  }
 },
 "nbformat": 4,
 "nbformat_minor": 5
}
