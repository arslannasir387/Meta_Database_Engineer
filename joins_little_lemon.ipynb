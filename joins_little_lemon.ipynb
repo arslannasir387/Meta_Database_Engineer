{
 "cells": [
  {
   "cell_type": "code",
   "execution_count": 5,
   "id": "ff9d0de6",
   "metadata": {},
   "outputs": [
    {
     "name": "stdout",
     "output_type": "stream",
     "text": [
      "connection Succesful with server\n",
      "cursor formed\n"
     ]
    }
   ],
   "source": [
    "import mysql.connector as connector\n",
    "try:\n",
    "    connection = connector.connect(\n",
    "        user = 'root',\n",
    "        password = 'server@1234',\n",
    "    )\n",
    "    print(\"connection Succesful with server\")\n",
    "except connector.Error as er:\n",
    "    print(\"error \", er)\n",
    "    \n",
    "cursor = connection.cursor()\n",
    "print(\"cursor formed\")"
   ]
  },
  {
   "cell_type": "code",
   "execution_count": 6,
   "id": "8bab1d5a",
   "metadata": {},
   "outputs": [
    {
     "name": "stdout",
     "output_type": "stream",
     "text": [
      "connected databse is  litlle_lemon\n",
      "existing tables are :\n",
      "('bookings',)\n",
      "('menuitems',)\n",
      "('menus',)\n",
      "('orders',)\n"
     ]
    }
   ],
   "source": [
    "cursor.execute(\"\"\"use litlle_lemon\"\"\")\n",
    "print(\"connected databse is \", connection.database)\n",
    "print(\"existing tables are :\")\n",
    "cursor.execute(\"\"\"show tables;\"\"\")\n",
    "for tble in cursor:\n",
    "    print(tble)"
   ]
  },
  {
   "cell_type": "code",
   "execution_count": 10,
   "id": "1a002067",
   "metadata": {},
   "outputs": [],
   "source": [
    "join_query = \"\"\"\n",
    "select mi.Name as item_Name, mi.Type as item_type, mi.Price as price,m.Cuisine as cuisine \n",
    "from MenuItems mi inner join Menus m on mi.ItemID = m.ItemID\n",
    "\n",
    "\"\"\""
   ]
  },
  {
   "cell_type": "code",
   "execution_count": 11,
   "id": "4a06db9b",
   "metadata": {},
   "outputs": [],
   "source": [
    "cursor.execute(join_query)"
   ]
  },
  {
   "cell_type": "code",
   "execution_count": 12,
   "id": "92a60023",
   "metadata": {},
   "outputs": [
    {
     "name": "stdout",
     "output_type": "stream",
     "text": [
      "('item_Name', 'item_type', 'price', 'cuisine')\n",
      "('Olives', 'Starters', 5, 'Greek')\n",
      "('Greek salad', 'Main Courses', 15, 'Greek')\n",
      "('Greek yoghurt', 'Desserts', 7, 'Greek')\n",
      "('Athens White wine', 'Drinks', 25, 'Greek')\n",
      "('Minestrone', 'Starters', 8, 'Italian')\n",
      "('Pizza', 'Main Courses', 15, 'Italian')\n",
      "('Cheesecake', 'Desserts', 4, 'Italian')\n",
      "('Turkish Coffee', 'Drinks', 10, 'Italian')\n",
      "('Falafel', 'Starters', 7, 'Turkish')\n",
      "('Ice cream', 'Desserts', 6, 'Turkish')\n",
      "('Turkish Coffee', 'Drinks', 10, 'Turkish')\n",
      "('Kabasa', 'Main Courses', 17, 'Turkish')\n"
     ]
    }
   ],
   "source": [
    "\n",
    "col_name = cursor.column_names\n",
    "print(col_name)\n",
    "for rec in cursor:\n",
    "    print(rec)"
   ]
  },
  {
   "cell_type": "code",
   "execution_count": 13,
   "id": "3f1e12c7",
   "metadata": {},
   "outputs": [],
   "source": [
    "join_query2 = \"\"\"\n",
    "select mi.Name as item_Name, mi.Type as item_type, mi.Price as price,m.Cuisine as cuisine \n",
    "from MenuItems mi left join Menus m on mi.ItemID = m.ItemID\n",
    "where m.Cuisine is null\n",
    "\"\"\""
   ]
  },
  {
   "cell_type": "code",
   "execution_count": 14,
   "id": "5fdbc5c6",
   "metadata": {},
   "outputs": [
    {
     "name": "stdout",
     "output_type": "stream",
     "text": [
      "('item_Name', 'item_type', 'price', 'cuisine')\n",
      "('Flatbread', 'Starters', 5, None)\n",
      "('Tomato bread', 'Starters', 8, None)\n",
      "('Hummus', 'Starters', 5, None)\n",
      "('Bean soup', 'Main Courses', 12, None)\n",
      "('Corfu Red Wine', 'Drinks', 30, None)\n"
     ]
    }
   ],
   "source": [
    "cursor.execute(join_query2)\n",
    "col_name = cursor.column_names\n",
    "print(col_name)\n",
    "for rec in cursor:\n",
    "    print(rec)"
   ]
  },
  {
   "cell_type": "code",
   "execution_count": 15,
   "id": "89f83bc7",
   "metadata": {},
   "outputs": [],
   "source": [
    "task_3 = \"\"\"\n",
    "select b.BookingID as booking, b.TableNo as table_no, b.GuestFirstName as guest_name,o.BillAmount as bill_amount\n",
    "from Bookings b inner join Orders o on b.BookingID = o.BookingID\n",
    "\"\"\""
   ]
  },
  {
   "cell_type": "code",
   "execution_count": 16,
   "id": "321e64f0",
   "metadata": {},
   "outputs": [
    {
     "name": "stdout",
     "output_type": "stream",
     "text": [
      "('booking', 'table_no', 'guest_name', 'bill_amount')\n",
      "(1, 12, 'Anna', 86)\n",
      "(2, 12, 'Joakim', 37)\n",
      "(3, 19, 'Vanessa', 37)\n",
      "(4, 15, 'Marcos', 40)\n",
      "(5, 5, 'Hiroki', 43)\n"
     ]
    }
   ],
   "source": [
    "cursor.execute(task_3)\n",
    "col_name = cursor.column_names\n",
    "print(col_name)\n",
    "for rec in cursor:\n",
    "    print(rec)"
   ]
  },
  {
   "cell_type": "code",
   "execution_count": null,
   "id": "58084c6e",
   "metadata": {},
   "outputs": [],
   "source": []
  }
 ],
 "metadata": {
  "kernelspec": {
   "display_name": "Python 3 (ipykernel)",
   "language": "python",
   "name": "python3"
  },
  "language_info": {
   "codemirror_mode": {
    "name": "ipython",
    "version": 3
   },
   "file_extension": ".py",
   "mimetype": "text/x-python",
   "name": "python",
   "nbconvert_exporter": "python",
   "pygments_lexer": "ipython3",
   "version": "3.11.4"
  }
 },
 "nbformat": 4,
 "nbformat_minor": 5
}
