{
 "cells": [
  {
   "cell_type": "markdown",
   "id": "05ad67fb",
   "metadata": {},
   "source": [
    "# Task 1"
   ]
  },
  {
   "cell_type": "code",
   "execution_count": 4,
   "id": "06e05f63",
   "metadata": {},
   "outputs": [
    {
     "name": "stdout",
     "output_type": "stream",
     "text": [
      "The connection pool is created with a name:  pool_b\n",
      "The pool size is:  2\n"
     ]
    }
   ],
   "source": [
    "from mysql.connector.pooling import MySQLConnectionPool\n",
    "import mysql.connector as connector\n",
    "from mysql.connector import Error\n",
    "dbconfig = {\n",
    "    \"database\":\"litlle_lemon\",\n",
    "    \"user\" : \"root\",\n",
    "    \"password\" : \"server@1234\"\n",
    "}\n",
    "p_name = 'pool_b'\n",
    "p_size=2\n",
    "try:\n",
    "    pool = MySQLConnectionPool(\n",
    "        pool_name = p_name,\n",
    "        pool_size=p_size,\n",
    "        host = 'localhost',\n",
    "        **dbconfig\n",
    "    )\n",
    "    print(\"The connection pool is created with a name: \",p_name)\n",
    "    print('The pool size is: ',p_size)\n",
    "except Error as er:\n",
    "    print(\"error: \", er)\n"
   ]
  },
  {
   "cell_type": "markdown",
   "id": "ca8403b2",
   "metadata": {},
   "source": [
    "# Task 2"
   ]
  },
  {
   "cell_type": "code",
   "execution_count": 14,
   "id": "fca163b7",
   "metadata": {},
   "outputs": [],
   "source": [
    "guests = [\n",
    "    {\n",
    "        'Name': 'Guest 1',\n",
    "        'Table Number': 8,\n",
    "        'First Name': 'Anees',\n",
    "        'Last Name': 'Java',\n",
    "        'Booking Time': '18:00',\n",
    "        'EmployeeID': 6\n",
    "    },\n",
    "    {\n",
    "        'Name': 'Guest 2',\n",
    "        'Table Number': 5,\n",
    "        'First Name': 'Bald',\n",
    "        'Last Name': 'Vin',\n",
    "        'Booking Time': '19:00',\n",
    "        'EmployeeID': 6\n",
    "    },\n",
    "    {\n",
    "        'Name': 'Guest 3',\n",
    "        'Table Number': 12,\n",
    "        'First Name': 'Jay',\n",
    "        'Last Name': 'Kon',\n",
    "        'Booking Time': '19:30',\n",
    "        'EmployeeID': 6\n",
    "    }\n",
    "]\n"
   ]
  },
  {
   "cell_type": "code",
   "execution_count": 16,
   "id": "8831e385",
   "metadata": {},
   "outputs": [],
   "source": [
    "insert_stmt = \"\"\"\n",
    "    INSERT INTO bookings (TableNo, GuestFirstName, GuestLastName, BookingSlot, EmployeeID) \n",
    "    VALUES (%s, %s, %s, %s, %s)\n",
    "    \"\"\""
   ]
  },
  {
   "cell_type": "code",
   "execution_count": 15,
   "id": "4c25ed4b",
   "metadata": {},
   "outputs": [
    {
     "name": "stdout",
     "output_type": "stream",
     "text": [
      "[Guest 1] is connected.\n",
      "\n",
      "data added of Guest 1 \n",
      "[Guest 2] is connected.\n",
      "\n",
      "data added of Guest 2 \n",
      "data added of Guest 3 \n"
     ]
    }
   ],
   "source": [
    "\n",
    "for guest in guests:\n",
    "    try:\n",
    "        guest_connected = pool.get_connection()\n",
    "        #print(\"[{}] is connected.\\n\".format(guest['Name']))\n",
    "        if guest_connected.is_connected():\n",
    "            cursor = guest_connected.cursor()\n",
    "            values = (\n",
    "                guest['Table Number'],\n",
    "                guest['First Name'],\n",
    "                guest['Last Name'],\n",
    "                guest['Booking Time'],\n",
    "                guest['EmployeeID']\n",
    "            )\n",
    "            cursor.execute(insert_stmt, values)\n",
    "            guest_connected.commit()\n",
    "            print(\"data added of {} \".format(guest['Name']))\n",
    "    except:        \n",
    "        connection=connector.connect(user=\"root\",password=\"server@1234\")\n",
    "        pool.add_connection(cnx=connection)        \n",
    "        user_connected = pool.get_connection()\n",
    "        #print(\"[{}] is connected.\\n\".format(guest['Name']))\n",
    "        if user_connected.is_connected():\n",
    "            cursor = guest_connected.cursor()\n",
    "            values = (\n",
    "                guest['Table Number'],\n",
    "                guest['First Name'],\n",
    "                guest['Last Name'],\n",
    "                guest['Booking Time'],\n",
    "                guest['EmployeeID']\n",
    "            )\n",
    "            cursor.execute(insert_stmt, values)\n",
    "            guest_connected.commit()\n",
    "            print(\"data added of {} \".format(guest['Name']))\n",
    "cursor.close()\n",
    "guest_connected.close()\n",
    "user_connected.close()"
   ]
  },
  {
   "cell_type": "markdown",
   "id": "b387ee23",
   "metadata": {},
   "source": [
    "# Task 3"
   ]
  },
  {
   "cell_type": "code",
   "execution_count": 34,
   "id": "f3e1c4aa",
   "metadata": {},
   "outputs": [
    {
     "name": "stdout",
     "output_type": "stream",
     "text": [
      "little lemon manger name is Mario Gollini and ID is 1\n",
      "\n",
      "The Mario Gollini having role of Manager receives the highest salary of $70,000.\n",
      "\n",
      "There are 7 guests booked between 18:00 and 20:00.\n",
      "('BookingID', 'FullName')\n",
      "(7, 'Anees Java')\n",
      "(8, 'Bald Vin')\n",
      "(9, 'Jay Kon')\n"
     ]
    }
   ],
   "source": [
    "    try:\n",
    "        connection = pool.get_connection()\n",
    "        if connection.is_connected():\n",
    "            cursor = connection.cursor()\n",
    "            #task-3-part1\n",
    "            cursor.execute(\"\"\"\n",
    "            select EmployeeID,Name from employees where Role = 'Manager';\n",
    "            \"\"\")\n",
    "            result = cursor.fetchall()\n",
    "            for data in result:\n",
    "                print(\"little lemon manger name is {} and ID is {}\".format(data[1],data[0]))\n",
    "            #task-3-part2    \n",
    "            cursor.execute(\"\"\"\n",
    "            select Name,Role,Annual_Salary from employees where Annual_Salary =(select max(Annual_Salary) from employees);\n",
    "            \"\"\")\n",
    "            result2 =cursor.fetchall()\n",
    "            for data in result2:\n",
    "                print(\"\\nThe {} having role of {} receives the highest salary of {}.\".format(data[0],data[1],data[2]))\n",
    "            #task-3-part3\n",
    "            cursor.execute(\"\"\"\n",
    "            select count(BookingID) from bookings where BookingSlot between '18:00:00' and '20:00:00';\n",
    "            \"\"\")\n",
    "            result3 = cursor.fetchall()\n",
    "            for data in result3:\n",
    "                print(\"\\nThere are {} guests booked between 18:00 and 20:00.\".format(data[0]))\n",
    "            #task-3-part4\n",
    "            cursor.execute(\"\"\"\n",
    "            select b.BookingID as BookingID,concat(b.GuestFirstName,\" \" ,b.GuestLastName) as FullName \n",
    "            from bookings b inner join employees e \n",
    "            on b.EmployeeID = e.EmployeeID \n",
    "            where e.Role =\"Receptionist\" order by 1;\n",
    "            \"\"\")\n",
    "            result4 = cursor.fetchall()\n",
    "            print(cursor.column_names)\n",
    "            for data in result4:\n",
    "                print(data)\n",
    "    except Error as er:\n",
    "        print(\"error \", er)\n",
    "\n",
    "cursor.close()\n",
    "connection.close()"
   ]
  },
  {
   "cell_type": "markdown",
   "id": "daddfe20",
   "metadata": {},
   "source": [
    "# Task 4"
   ]
  },
  {
   "cell_type": "code",
   "execution_count": 1,
   "id": "0f7a242a",
   "metadata": {},
   "outputs": [],
   "source": [
    "BasicSalesReport_query = \"\"\"\n",
    "CREATE PROCEDURE BasicSalesReport()\n",
    "BEGIN\n",
    "select sum(BillAmount) as TotalSales, round(AVG(BillAmount),2) as AverageSale, \n",
    "min(BillAmount) as minbill, MAX(BillAmount) as maxbill\n",
    "from orders;\n",
    "END\n",
    "\"\"\""
   ]
  },
  {
   "cell_type": "code",
   "execution_count": 5,
   "id": "80b85818",
   "metadata": {},
   "outputs": [],
   "source": [
    "try:\n",
    "    connection2 = pool.get_connection()\n",
    "    if connection2.is_connected():\n",
    "        cursor = connection2.cursor()\n",
    "        cursor.execute(BasicSalesReport_query)\n",
    "except Error as er:\n",
    "    print(\"Error \",er)\n",
    "    \n",
    "cursor.close()\n",
    "connection2.close()\n",
    "    "
   ]
  },
  {
   "cell_type": "code",
   "execution_count": 14,
   "id": "59ac9303",
   "metadata": {},
   "outputs": [
    {
     "name": "stdout",
     "output_type": "stream",
     "text": [
      "Total Sales:243 \n",
      "Average sale:48.60 \n",
      "Minimum Bill Paid:37 \n",
      "Minimum Bill Paid:86 \n"
     ]
    }
   ],
   "source": [
    "try:\n",
    "    connection2 = pool.get_connection()\n",
    "    if connection2.is_connected():\n",
    "        cursor = connection2.cursor()\n",
    "        cursor.callproc('BasicSalesReport')\n",
    "        result = next(cursor.stored_results())\n",
    "        for colname in cursor.stored_results():\n",
    "            colname = [col[0] for col in colname.description]\n",
    "        result_ex = result.fetchall()\n",
    "        for data in result_ex:\n",
    "            print(\"Total Sales:{} \\nAverage sale:{} \\nMinimum Bill Paid:{} \\nMinimum Bill Paid:{} \".\n",
    "            format(data[0],data[1],data[2],data[3]))\n",
    "except Error as er:\n",
    "    print(\"Error: \",er)\n",
    "    \n",
    "cursor.close()\n",
    "connection2.close()\n",
    "    "
   ]
  },
  {
   "cell_type": "markdown",
   "id": "5b2203b3",
   "metadata": {},
   "source": [
    "# Task 5"
   ]
  },
  {
   "cell_type": "code",
   "execution_count": 24,
   "id": "85c3ec9a",
   "metadata": {},
   "outputs": [
    {
     "name": "stdout",
     "output_type": "stream",
     "text": [
      "3\n",
      "15:00:00 \n",
      "Vanessa McCarthy \n",
      "Assigned to:Giorgos Dioudis [Head Chef]\n",
      " \n",
      "17:30:00 \n",
      "Marcos Romero \n",
      "Assigned to:Fatma Kaya [Assistant Chef]\n",
      " \n",
      "18:00:00 \n",
      "Anees Java \n",
      "Assigned to:John Millar [Receptionist]\n",
      " \n"
     ]
    }
   ],
   "source": [
    "try:\n",
    "    connection2 = pool.get_connection()\n",
    "    if connection2.is_connected():\n",
    "        cursor = connection2.cursor(buffered=True)\n",
    "        cursor.execute(\"\"\"\n",
    "        select b.BookingSlot as BookingID,concat(b.GuestFirstName,\" \" ,b.GuestLastName) as GuestName,\n",
    "        e.Name as employename,e.Role as role\n",
    "        from bookings b inner join employees e \n",
    "        on b.EmployeeID = e.EmployeeID \n",
    "        order by 1 asc limit 3;\n",
    "        \"\"\")\n",
    "        print(cursor.rowcount)\n",
    "        result_ex = cursor.fetchall()\n",
    "        for data in result_ex:\n",
    "            print(\"{} \\n{} \\nAssigned to:{} [{}]\\n \".\n",
    "            format(data[0],data[1],data[2],data[3]))\n",
    "except Error as er:\n",
    "    print(\"Error: \",er)\n",
    "    \n",
    "cursor.close()\n",
    "connection2.close()"
   ]
  },
  {
   "cell_type": "code",
   "execution_count": null,
   "id": "1adfbe50",
   "metadata": {},
   "outputs": [],
   "source": [
    "con"
   ]
  }
 ],
 "metadata": {
  "kernelspec": {
   "display_name": "Python 3 (ipykernel)",
   "language": "python",
   "name": "python3"
  },
  "language_info": {
   "codemirror_mode": {
    "name": "ipython",
    "version": 3
   },
   "file_extension": ".py",
   "mimetype": "text/x-python",
   "name": "python",
   "nbconvert_exporter": "python",
   "pygments_lexer": "ipython3",
   "version": "3.11.4"
  }
 },
 "nbformat": 4,
 "nbformat_minor": 5
}
