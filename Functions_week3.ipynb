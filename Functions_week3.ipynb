{
 "cells": [
  {
   "cell_type": "code",
   "execution_count": 67,
   "id": "679ec221",
   "metadata": {},
   "outputs": [
    {
     "name": "stdout",
     "output_type": "stream",
     "text": [
      "connection Succesful with server\n",
      "cursor formed\n"
     ]
    }
   ],
   "source": [
    "import mysql.connector as connector\n",
    "try:\n",
    "    connection = connector.connect(\n",
    "        user = 'root',\n",
    "        password = 'server@1234',\n",
    "    )\n",
    "    print(\"connection Succesful with server\")\n",
    "except connector.Error as er:\n",
    "    print(\"error \", er)\n",
    "    \n",
    "cursor = connection.cursor()\n",
    "print(\"cursor formed\")"
   ]
  },
  {
   "cell_type": "code",
   "execution_count": 68,
   "id": "c8002f2b",
   "metadata": {},
   "outputs": [
    {
     "name": "stdout",
     "output_type": "stream",
     "text": [
      "connected databse is  litlle_lemon\n",
      "existing tables are :\n",
      "('bookings',)\n",
      "('menuitems',)\n",
      "('menus',)\n",
      "('orders',)\n"
     ]
    }
   ],
   "source": [
    "cursor.execute(\"\"\"use litlle_lemon\"\"\")\n",
    "print(\"connected databse is \", connection.database)\n",
    "print(\"existing tables are :\")\n",
    "cursor.execute(\"\"\"show tables;\"\"\")\n",
    "for tble in cursor:\n",
    "    print(tble)"
   ]
  },
  {
   "cell_type": "code",
   "execution_count": 6,
   "id": "e57896df",
   "metadata": {},
   "outputs": [],
   "source": [
    "w3_task_1 = \"\"\"\n",
    "Select \n",
    "BookingID as ID,concat(GuestFirstName,\" \" ,GuestLastName) as GuestFullName\n",
    "from bookings;\n",
    "\"\"\""
   ]
  },
  {
   "cell_type": "code",
   "execution_count": 9,
   "id": "0b02d9ef",
   "metadata": {},
   "outputs": [
    {
     "name": "stdout",
     "output_type": "stream",
     "text": [
      "('ID', 'GuestFullName')\n",
      "(1, 'Anna Iversen')\n",
      "(2, 'Joakim Iversen')\n",
      "(3, 'Vanessa McCarthy')\n",
      "(4, 'Marcos Romero')\n",
      "(5, 'Hiroki Yamane')\n",
      "(6, 'Diana Pinto')\n"
     ]
    }
   ],
   "source": [
    "cursor.execute(w3_task_1)\n",
    "print(cursor.column_names)\n",
    "for row in cursor:\n",
    "    print(row)"
   ]
  },
  {
   "cell_type": "code",
   "execution_count": 10,
   "id": "f3da3561",
   "metadata": {},
   "outputs": [],
   "source": [
    "w3_task_2 = \"\"\"\n",
    "select count(BookingID) as TotalBooking, sum(BillAmount) as TotalSales, AVG(BillAmount) as AverageSale\n",
    "from orders;\n",
    "\"\"\""
   ]
  },
  {
   "cell_type": "code",
   "execution_count": 12,
   "id": "3c927801",
   "metadata": {},
   "outputs": [
    {
     "name": "stdout",
     "output_type": "stream",
     "text": [
      "Todays Statistics\n",
      "total bookings:  5\n",
      "Total Sales:  243\n",
      "Average Sales:  48.6000\n"
     ]
    }
   ],
   "source": [
    "cursor.execute(w3_task_2)\n",
    "print(\"Todays Statistics\")\n",
    "for row in cursor:\n",
    "    print(\"total bookings: \",row[0])\n",
    "    print(\"Total Sales: \",row[1])\n",
    "    print(\"Average Sales: \",row[2])"
   ]
  },
  {
   "cell_type": "code",
   "execution_count": 13,
   "id": "58d32515",
   "metadata": {},
   "outputs": [],
   "source": [
    "w3_task_3 = \"\"\"\n",
    "select TableNo,count(BookingID) as n_booking\n",
    "from bookings\n",
    "group by TableNo\n",
    "order by 2 Desc;\n",
    "\"\"\""
   ]
  },
  {
   "cell_type": "code",
   "execution_count": 14,
   "id": "9be45d63",
   "metadata": {},
   "outputs": [
    {
     "name": "stdout",
     "output_type": "stream",
     "text": [
      "('TableNo', 'n_booking')\n",
      "(12, 2)\n",
      "(19, 1)\n",
      "(15, 1)\n",
      "(5, 1)\n",
      "(10, 1)\n"
     ]
    }
   ],
   "source": [
    "cursor.execute(w3_task_3)\n",
    "print(cursor.column_names)\n",
    "for row in cursor:\n",
    "    print(row)"
   ]
  },
  {
   "cell_type": "code",
   "execution_count": 15,
   "id": "8d4a54e9",
   "metadata": {},
   "outputs": [],
   "source": [
    "w3_task_4 = \"\"\"\n",
    "Select BookingID,concat(GuestFirstName,GuestLastName) as Guest_Name ,\n",
    "case\n",
    "\twhen BookingSlot between '15:00:00' and '16:00:00' then 'late Afternoon'\n",
    "    when BookingSlot between '17:00:00' and '18:00:00' then 'Evening'\n",
    "    when BookingSlot between '19:00:00' and '20:00:00' then 'Night'\n",
    "end\n",
    "as arrivalslot\n",
    "from bookings;\n",
    "\"\"\""
   ]
  },
  {
   "cell_type": "code",
   "execution_count": 17,
   "id": "9eb12b2d",
   "metadata": {},
   "outputs": [
    {
     "name": "stdout",
     "output_type": "stream",
     "text": [
      "('BookingID', 'Guest_Name', 'arrivalslot')\n",
      "(1, 'AnnaIversen', 'Night')\n",
      "(2, 'JoakimIversen', 'Night')\n",
      "(3, 'VanessaMcCarthy', 'late Afternoon')\n",
      "(4, 'MarcosRomero', 'Evening')\n",
      "(5, 'HirokiYamane', None)\n",
      "(6, 'DianaPinto', 'Night')\n"
     ]
    }
   ],
   "source": [
    "cursor.execute(w3_task_4)\n",
    "print(cursor.column_names)\n",
    "for row in cursor:\n",
    "    print(row)"
   ]
  },
  {
   "cell_type": "markdown",
   "id": "69472cbf",
   "metadata": {},
   "source": [
    "# Date Time Function using python "
   ]
  },
  {
   "cell_type": "code",
   "execution_count": 26,
   "id": "d04f509b",
   "metadata": {},
   "outputs": [],
   "source": [
    "w3_s1_task_1 = \"\"\"\n",
    "select hour(BookingSlot),count(BookingID)\n",
    "from bookings\n",
    "group by BookingSlot\n",
    "order by BookingSlot;\n",
    "\"\"\""
   ]
  },
  {
   "cell_type": "code",
   "execution_count": 39,
   "id": "5ed3d143",
   "metadata": {},
   "outputs": [],
   "source": []
  },
  {
   "cell_type": "code",
   "execution_count": 41,
   "id": "117d917d",
   "metadata": {},
   "outputs": [
    {
     "name": "stdout",
     "output_type": "stream",
     "text": [
      "Hour: 15 <<>> 1 Booking/s \n",
      "Hour: 17 <<>> 1 Booking/s \n",
      "Hour: 18 <<>> 1 Booking/s \n",
      "Hour: 19 <<>> 2 Booking/s \n",
      "Hour: 20 <<>> 1 Booking/s \n"
     ]
    }
   ],
   "source": [
    "cursor.execute(w3_s1_task_1)\n",
    "for rows in cursor:\n",
    "    hour = rows[0]\n",
    "    booking = str(rows[1])\n",
    "    print('Hour: {} <<>> {} Booking/s '.format(hour,booking))\n",
    "    \n"
   ]
  },
  {
   "cell_type": "code",
   "execution_count": 42,
   "id": "2b97c1fc",
   "metadata": {},
   "outputs": [],
   "source": [
    "w3_s1_task_2 = \"\"\"\n",
    "select TableNo,concat(GuestFirstName,\" \",GuestLastName) as Guest_Name,BookingSlot\n",
    "from bookings \n",
    "order by BookingSlot;\n",
    "\"\"\""
   ]
  },
  {
   "cell_type": "code",
   "execution_count": 43,
   "id": "16109ab1",
   "metadata": {},
   "outputs": [
    {
     "name": "stdout",
     "output_type": "stream",
     "text": [
      "The guests and their booking slots are: \n"
     ]
    }
   ],
   "source": [
    "import datetime as dt\n",
    "cursor.execute(w3_s1_task_2)\n",
    "print(\"The guests and their booking slots are: \")\n",
    "hours = cursor.fetchall()\n",
    "\n",
    "    \n"
   ]
  },
  {
   "cell_type": "code",
   "execution_count": 63,
   "id": "830a4de2",
   "metadata": {},
   "outputs": [
    {
     "name": "stdout",
     "output_type": "stream",
     "text": [
      "[Table no:] 19 >> Vanessa McCarthy is expected to arrive at: 15 hrs and 0 mins\n",
      "[Table no:] 15 >> Marcos Romero is expected to arrive at: 17 hrs and 30 mins\n",
      "[Table no:] 5 >> Hiroki Yamane is expected to arrive at: 18 hrs and 30 mins\n",
      "[Table no:] 12 >> Anna Iversen is expected to arrive at: 19 hrs and 0 mins\n",
      "[Table no:] 12 >> Joakim Iversen is expected to arrive at: 19 hrs and 0 mins\n",
      "[Table no:] 10 >> Diana Pinto is expected to arrive at: 20 hrs and 0 mins\n"
     ]
    }
   ],
   "source": [
    "for rows in hours:\n",
    "    h = str(rows[2])\n",
    "    tt1 = datetime.strptime(h,\"%H:%M:%S\")\n",
    "    hour1 = tt1.hour\n",
    "    minutes = tt1.minute\n",
    "    tableno = rows[0]\n",
    "    name = rows [1]\n",
    "    #h2 = dt.time.hour(h)\n",
    "    print(\"[Table no:] {} >> {} is expected to arrive at: {} hrs and {} mins\".format(tableno,name,hour1,minutes))"
   ]
  },
  {
   "cell_type": "code",
   "execution_count": 73,
   "id": "82b7d0a2",
   "metadata": {},
   "outputs": [],
   "source": [
    "update_time = \"\"\"\n",
    "UPDATE Bookings \n",
    "SET BookingSlot=ADDTIME(BookingSlot,\"1:00:00\") \n",
    "WHERE BookingID=2;\"\"\"\n",
    "cursor.execute(update_time)\n",
    "connection.commit()"
   ]
  },
  {
   "cell_type": "code",
   "execution_count": 74,
   "id": "bfe3f330",
   "metadata": {},
   "outputs": [],
   "source": [
    "w3_s1_task_3 = \"\"\"\n",
    "select BookingID,TableNo,BookingSlot\n",
    "from bookings\n",
    "where BookingID =2 and TableNo =12\n",
    ";\n",
    "\"\"\"\n",
    "cursor.execute(w3_s1_task_3)"
   ]
  },
  {
   "cell_type": "code",
   "execution_count": 70,
   "id": "cd777119",
   "metadata": {},
   "outputs": [],
   "source": [
    "result = cursor.fetchall()"
   ]
  },
  {
   "cell_type": "code",
   "execution_count": 71,
   "id": "712458fd",
   "metadata": {},
   "outputs": [
    {
     "name": "stdout",
     "output_type": "stream",
     "text": [
      "Booking time change alert\n",
      "booking id :  2\n",
      "Table no :  12\n",
      "Booking Slot :  19:00:00\n",
      "new arrival time  20:00:00\n"
     ]
    }
   ],
   "source": [
    "print(\"Booking time change alert\")\n",
    "for rows in result:\n",
    "    print('booking id : ',rows[0])\n",
    "    print('Table no : ',rows[1])\n",
    "    print('Booking Slot : ',rows[2])\n",
    "    btime = rows[2]\n",
    "    newtime = btime + dt.timedelta(hours=1)\n",
    "    print('new arrival time ', newtime)"
   ]
  },
  {
   "cell_type": "code",
   "execution_count": 75,
   "id": "92e83c04",
   "metadata": {},
   "outputs": [
    {
     "name": "stdout",
     "output_type": "stream",
     "text": [
      "Connection is already closed\n"
     ]
    }
   ],
   "source": [
    "# Let's close the cursor and the connection\n",
    "if connection.is_connected():\n",
    "    cursor.close()\n",
    "    print(\"The cursor is closed.\")\n",
    "    connection.close()\n",
    "    print(\"MySQL connection is closed.\")\n",
    "else:\n",
    "    print(\"Connection is already closed\")"
   ]
  },
  {
   "cell_type": "code",
   "execution_count": null,
   "id": "4d4e82e3",
   "metadata": {},
   "outputs": [],
   "source": []
  }
 ],
 "metadata": {
  "kernelspec": {
   "display_name": "Python 3 (ipykernel)",
   "language": "python",
   "name": "python3"
  },
  "language_info": {
   "codemirror_mode": {
    "name": "ipython",
    "version": 3
   },
   "file_extension": ".py",
   "mimetype": "text/x-python",
   "name": "python",
   "nbconvert_exporter": "python",
   "pygments_lexer": "ipython3",
   "version": "3.11.4"
  }
 },
 "nbformat": 4,
 "nbformat_minor": 5
}
